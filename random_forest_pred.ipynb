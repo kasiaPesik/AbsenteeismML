{
 "cells": [
  {
   "cell_type": "code",
   "execution_count": 1,
   "metadata": {},
   "outputs": [],
   "source": [
    "import pandas as pd\n",
    "import pickle"
   ]
  },
  {
   "cell_type": "code",
   "execution_count": 6,
   "metadata": {},
   "outputs": [
    {
     "name": "stdout",
     "output_type": "stream",
     "text": [
      "[1 0 1 1 1]\n"
     ]
    }
   ],
   "source": [
    "with open('random_forest_model.pkl', 'rb') as file:\n",
    "    loaded_rf_model = pickle.load(file)\n",
    "\n",
    "\n",
    "data = {\n",
    "    'reason_type_1': [1, 0, 0, 0, 0],\n",
    "    'reason_type_2': [0, 1, 0, 0, 0],\n",
    "    'reason_type_3': [0, 0, 1, 0, 0],\n",
    "    'reason_type_4': [0, 0, 0, 1, 0],\n",
    "    'reason_type_5': [0, 0, 0, 0, 1],\n",
    "    'reason_type_6': [1, 0, 0, 0, 0],\n",
    "    'reason_type_7': [0, 1, 0, 0, 0],\n",
    "    'reason_type_8': [0, 0, 1, 0, 0],\n",
    "    'reason_type_9': [0, 0, 0, 1, 0],\n",
    "    'reason_type_10': [0, 0, 0, 0, 1],\n",
    "    'reason_type_11': [1, 0, 0, 0, 0],\n",
    "    'reason_type_12': [0, 1, 0, 0, 0],\n",
    "    'reason_type_13': [0, 0, 1, 0, 0],\n",
    "    'reason_type_14': [0, 0, 0, 1, 0],\n",
    "    'reason_type_15': [0, 0, 0, 0, 1],\n",
    "    'reason_type_16': [1, 0, 0, 0, 0],\n",
    "    'reason_type_17': [0, 1, 0, 0, 0],\n",
    "    'reason_type_18': [0, 0, 1, 0, 0],\n",
    "    'reason_type_19': [0, 0, 0, 1, 0],\n",
    "    'reason_type_21': [1, 0, 0, 0, 0],\n",
    "    'reason_type_22': [0, 1, 0, 0, 0],\n",
    "    'reason_type_23': [0, 0, 1, 0, 0],\n",
    "    'reason_type_24': [0, 0, 0, 1, 0],\n",
    "    'reason_type_25': [0, 0, 0, 0, 1],\n",
    "    'reason_type_26': [1, 0, 0, 0, 0],\n",
    "    'reason_type_27': [0, 1, 0, 0, 0],\n",
    "    'Transportation Expense': [300, 310, 320, 330, 340],\n",
    "    'Distance to Work': [20, 22, 25, 18, 21],\n",
    "    'Age': [29, 31, 28, 33, 35],\n",
    "    'Daily Work Load Average': [239.554, 245.321, 230.123, 236.987, 241.543],\n",
    "    'Body Mass Index': [30, 31, 29, 32, 28],\n",
    "    'Education': [1, 2, 1, 3, 2],\n",
    "    'Children': [2, 1, 0, 2, 3],\n",
    "    'Pets': [2, 1, 0, 1, 2],\n",
    "    'Absenteeism Time in Hours': [4, 8, 2, 3, 7]\n",
    "}\n",
    "\n",
    "\n",
    "\n",
    "df = pd.DataFrame(data)\n",
    "\n",
    "X_test = df.drop('Absenteeism Time in Hours', axis=1)\n",
    "\n",
    "\n",
    "predictions = loaded_rf_model.predict(X_test)\n",
    "\n",
    "print(predictions)\n"
   ]
  }
 ],
 "metadata": {
  "kernelspec": {
   "display_name": "Python 3",
   "language": "python",
   "name": "python3"
  },
  "language_info": {
   "codemirror_mode": {
    "name": "ipython",
    "version": 3
   },
   "file_extension": ".py",
   "mimetype": "text/x-python",
   "name": "python",
   "nbconvert_exporter": "python",
   "pygments_lexer": "ipython3",
   "version": "3.11.5"
  }
 },
 "nbformat": 4,
 "nbformat_minor": 2
}
